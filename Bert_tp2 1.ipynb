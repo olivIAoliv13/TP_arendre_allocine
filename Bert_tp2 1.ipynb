{
  "cells": [
    {
      "cell_type": "code",
      "execution_count": null,
      "metadata": {
        "colab": {
          "base_uri": "https://localhost:8080/"
        },
        "id": "falIhq0KiWm2",
        "outputId": "680e840e-c542-49a6-95b0-b10298280cbe"
      },
      "outputs": [
        {
          "name": "stdout",
          "output_type": "stream",
          "text": [
            "Requirement already satisfied: transformers in /usr/local/lib/python3.10/dist-packages (4.46.2)\n",
            "Requirement already satisfied: filelock in /usr/local/lib/python3.10/dist-packages (from transformers) (3.16.1)\n",
            "Requirement already satisfied: huggingface-hub<1.0,>=0.23.2 in /usr/local/lib/python3.10/dist-packages (from transformers) (0.26.2)\n",
            "Requirement already satisfied: numpy>=1.17 in /usr/local/lib/python3.10/dist-packages (from transformers) (1.26.4)\n",
            "Requirement already satisfied: packaging>=20.0 in /usr/local/lib/python3.10/dist-packages (from transformers) (24.2)\n",
            "Requirement already satisfied: pyyaml>=5.1 in /usr/local/lib/python3.10/dist-packages (from transformers) (6.0.2)\n",
            "Requirement already satisfied: regex!=2019.12.17 in /usr/local/lib/python3.10/dist-packages (from transformers) (2024.9.11)\n",
            "Requirement already satisfied: requests in /usr/local/lib/python3.10/dist-packages (from transformers) (2.32.3)\n",
            "Requirement already satisfied: safetensors>=0.4.1 in /usr/local/lib/python3.10/dist-packages (from transformers) (0.4.5)\n",
            "Requirement already satisfied: tokenizers<0.21,>=0.20 in /usr/local/lib/python3.10/dist-packages (from transformers) (0.20.3)\n",
            "Requirement already satisfied: tqdm>=4.27 in /usr/local/lib/python3.10/dist-packages (from transformers) (4.66.6)\n",
            "Requirement already satisfied: fsspec>=2023.5.0 in /usr/local/lib/python3.10/dist-packages (from huggingface-hub<1.0,>=0.23.2->transformers) (2024.10.0)\n",
            "Requirement already satisfied: typing-extensions>=3.7.4.3 in /usr/local/lib/python3.10/dist-packages (from huggingface-hub<1.0,>=0.23.2->transformers) (4.12.2)\n",
            "Requirement already satisfied: charset-normalizer<4,>=2 in /usr/local/lib/python3.10/dist-packages (from requests->transformers) (3.4.0)\n",
            "Requirement already satisfied: idna<4,>=2.5 in /usr/local/lib/python3.10/dist-packages (from requests->transformers) (3.10)\n",
            "Requirement already satisfied: urllib3<3,>=1.21.1 in /usr/local/lib/python3.10/dist-packages (from requests->transformers) (2.2.3)\n",
            "Requirement already satisfied: certifi>=2017.4.17 in /usr/local/lib/python3.10/dist-packages (from requests->transformers) (2024.8.30)\n",
            "Requirement already satisfied: torch in /usr/local/lib/python3.10/dist-packages (2.5.1+cu121)\n",
            "Requirement already satisfied: filelock in /usr/local/lib/python3.10/dist-packages (from torch) (3.16.1)\n",
            "Requirement already satisfied: typing-extensions>=4.8.0 in /usr/local/lib/python3.10/dist-packages (from torch) (4.12.2)\n",
            "Requirement already satisfied: networkx in /usr/local/lib/python3.10/dist-packages (from torch) (3.4.2)\n",
            "Requirement already satisfied: jinja2 in /usr/local/lib/python3.10/dist-packages (from torch) (3.1.4)\n",
            "Requirement already satisfied: fsspec in /usr/local/lib/python3.10/dist-packages (from torch) (2024.10.0)\n",
            "Requirement already satisfied: sympy==1.13.1 in /usr/local/lib/python3.10/dist-packages (from torch) (1.13.1)\n",
            "Requirement already satisfied: mpmath<1.4,>=1.1.0 in /usr/local/lib/python3.10/dist-packages (from sympy==1.13.1->torch) (1.3.0)\n",
            "Requirement already satisfied: MarkupSafe>=2.0 in /usr/local/lib/python3.10/dist-packages (from jinja2->torch) (3.0.2)\n"
          ]
        }
      ],
      "source": [
        "!pip install transformers\n",
        "!pip install torch"
      ]
    },
    {
      "cell_type": "code",
      "execution_count": 109,
      "metadata": {
        "id": "LVg3lgAiihJE"
      },
      "outputs": [],
      "source": [
        "import numpy as np\n",
        "import pandas as pd\n",
        "from sklearn.linear_model import LogisticRegression #le modèle que l'on va utiliser\n",
        "from sklearn.model_selection import train_test_split\n",
        "import torch\n",
        "import transformers as transf\n",
        "import warnings\n",
        "import matplotlib.pyplot as plt\n",
        "warnings.filterwarnings('ignore')"
      ]
    },
    {
      "cell_type": "code",
      "execution_count": 110,
      "metadata": {
        "id": "y-t0gHMain_3"
      },
      "outputs": [],
      "source": [
        "#Données\n",
        "\n",
        "df = pd.read_csv(\"data_total_allociné.csv\",delimiter=\",\")\n",
        "df.rename(columns={'Unnamed: 0': 'commentaire','0': 'note'}, inplace=True)"
      ]
    },
    {
      "cell_type": "code",
      "execution_count": 111,
      "metadata": {
        "colab": {
          "base_uri": "https://localhost:8080/",
          "height": 206
        },
        "id": "_4Z1qg96jAFE",
        "outputId": "d4ad4035-fa2f-48e3-c0c9-132daff1badf"
      },
      "outputs": [
        {
          "output_type": "execute_result",
          "data": {
            "text/plain": [
              "                                         commentaire  note\n",
              "0   film très lent plutôt hermétique est une oeuv...   2.0\n",
              "1   faut voir genre film pour croire ils existent...   3.0\n",
              "2   des acteurs français jouant les américains ba...   0.5\n",
              "3   livre boris vian tourné film dans les années ...   5.0\n",
              "4   irai cracher est sans doute œuvre française p...   1.0"
            ],
            "text/html": [
              "\n",
              "  <div id=\"df-2042631d-d142-42fa-bc9e-1a668b812feb\" class=\"colab-df-container\">\n",
              "    <div>\n",
              "<style scoped>\n",
              "    .dataframe tbody tr th:only-of-type {\n",
              "        vertical-align: middle;\n",
              "    }\n",
              "\n",
              "    .dataframe tbody tr th {\n",
              "        vertical-align: top;\n",
              "    }\n",
              "\n",
              "    .dataframe thead th {\n",
              "        text-align: right;\n",
              "    }\n",
              "</style>\n",
              "<table border=\"1\" class=\"dataframe\">\n",
              "  <thead>\n",
              "    <tr style=\"text-align: right;\">\n",
              "      <th></th>\n",
              "      <th>commentaire</th>\n",
              "      <th>note</th>\n",
              "    </tr>\n",
              "  </thead>\n",
              "  <tbody>\n",
              "    <tr>\n",
              "      <th>0</th>\n",
              "      <td>film très lent plutôt hermétique est une oeuv...</td>\n",
              "      <td>2.0</td>\n",
              "    </tr>\n",
              "    <tr>\n",
              "      <th>1</th>\n",
              "      <td>faut voir genre film pour croire ils existent...</td>\n",
              "      <td>3.0</td>\n",
              "    </tr>\n",
              "    <tr>\n",
              "      <th>2</th>\n",
              "      <td>des acteurs français jouant les américains ba...</td>\n",
              "      <td>0.5</td>\n",
              "    </tr>\n",
              "    <tr>\n",
              "      <th>3</th>\n",
              "      <td>livre boris vian tourné film dans les années ...</td>\n",
              "      <td>5.0</td>\n",
              "    </tr>\n",
              "    <tr>\n",
              "      <th>4</th>\n",
              "      <td>irai cracher est sans doute œuvre française p...</td>\n",
              "      <td>1.0</td>\n",
              "    </tr>\n",
              "  </tbody>\n",
              "</table>\n",
              "</div>\n",
              "    <div class=\"colab-df-buttons\">\n",
              "\n",
              "  <div class=\"colab-df-container\">\n",
              "    <button class=\"colab-df-convert\" onclick=\"convertToInteractive('df-2042631d-d142-42fa-bc9e-1a668b812feb')\"\n",
              "            title=\"Convert this dataframe to an interactive table.\"\n",
              "            style=\"display:none;\">\n",
              "\n",
              "  <svg xmlns=\"http://www.w3.org/2000/svg\" height=\"24px\" viewBox=\"0 -960 960 960\">\n",
              "    <path d=\"M120-120v-720h720v720H120Zm60-500h600v-160H180v160Zm220 220h160v-160H400v160Zm0 220h160v-160H400v160ZM180-400h160v-160H180v160Zm440 0h160v-160H620v160ZM180-180h160v-160H180v160Zm440 0h160v-160H620v160Z\"/>\n",
              "  </svg>\n",
              "    </button>\n",
              "\n",
              "  <style>\n",
              "    .colab-df-container {\n",
              "      display:flex;\n",
              "      gap: 12px;\n",
              "    }\n",
              "\n",
              "    .colab-df-convert {\n",
              "      background-color: #E8F0FE;\n",
              "      border: none;\n",
              "      border-radius: 50%;\n",
              "      cursor: pointer;\n",
              "      display: none;\n",
              "      fill: #1967D2;\n",
              "      height: 32px;\n",
              "      padding: 0 0 0 0;\n",
              "      width: 32px;\n",
              "    }\n",
              "\n",
              "    .colab-df-convert:hover {\n",
              "      background-color: #E2EBFA;\n",
              "      box-shadow: 0px 1px 2px rgba(60, 64, 67, 0.3), 0px 1px 3px 1px rgba(60, 64, 67, 0.15);\n",
              "      fill: #174EA6;\n",
              "    }\n",
              "\n",
              "    .colab-df-buttons div {\n",
              "      margin-bottom: 4px;\n",
              "    }\n",
              "\n",
              "    [theme=dark] .colab-df-convert {\n",
              "      background-color: #3B4455;\n",
              "      fill: #D2E3FC;\n",
              "    }\n",
              "\n",
              "    [theme=dark] .colab-df-convert:hover {\n",
              "      background-color: #434B5C;\n",
              "      box-shadow: 0px 1px 3px 1px rgba(0, 0, 0, 0.15);\n",
              "      filter: drop-shadow(0px 1px 2px rgba(0, 0, 0, 0.3));\n",
              "      fill: #FFFFFF;\n",
              "    }\n",
              "  </style>\n",
              "\n",
              "    <script>\n",
              "      const buttonEl =\n",
              "        document.querySelector('#df-2042631d-d142-42fa-bc9e-1a668b812feb button.colab-df-convert');\n",
              "      buttonEl.style.display =\n",
              "        google.colab.kernel.accessAllowed ? 'block' : 'none';\n",
              "\n",
              "      async function convertToInteractive(key) {\n",
              "        const element = document.querySelector('#df-2042631d-d142-42fa-bc9e-1a668b812feb');\n",
              "        const dataTable =\n",
              "          await google.colab.kernel.invokeFunction('convertToInteractive',\n",
              "                                                    [key], {});\n",
              "        if (!dataTable) return;\n",
              "\n",
              "        const docLinkHtml = 'Like what you see? Visit the ' +\n",
              "          '<a target=\"_blank\" href=https://colab.research.google.com/notebooks/data_table.ipynb>data table notebook</a>'\n",
              "          + ' to learn more about interactive tables.';\n",
              "        element.innerHTML = '';\n",
              "        dataTable['output_type'] = 'display_data';\n",
              "        await google.colab.output.renderOutput(dataTable, element);\n",
              "        const docLink = document.createElement('div');\n",
              "        docLink.innerHTML = docLinkHtml;\n",
              "        element.appendChild(docLink);\n",
              "      }\n",
              "    </script>\n",
              "  </div>\n",
              "\n",
              "\n",
              "<div id=\"df-3426e571-a523-4ba8-9818-3015580e16ce\">\n",
              "  <button class=\"colab-df-quickchart\" onclick=\"quickchart('df-3426e571-a523-4ba8-9818-3015580e16ce')\"\n",
              "            title=\"Suggest charts\"\n",
              "            style=\"display:none;\">\n",
              "\n",
              "<svg xmlns=\"http://www.w3.org/2000/svg\" height=\"24px\"viewBox=\"0 0 24 24\"\n",
              "     width=\"24px\">\n",
              "    <g>\n",
              "        <path d=\"M19 3H5c-1.1 0-2 .9-2 2v14c0 1.1.9 2 2 2h14c1.1 0 2-.9 2-2V5c0-1.1-.9-2-2-2zM9 17H7v-7h2v7zm4 0h-2V7h2v10zm4 0h-2v-4h2v4z\"/>\n",
              "    </g>\n",
              "</svg>\n",
              "  </button>\n",
              "\n",
              "<style>\n",
              "  .colab-df-quickchart {\n",
              "      --bg-color: #E8F0FE;\n",
              "      --fill-color: #1967D2;\n",
              "      --hover-bg-color: #E2EBFA;\n",
              "      --hover-fill-color: #174EA6;\n",
              "      --disabled-fill-color: #AAA;\n",
              "      --disabled-bg-color: #DDD;\n",
              "  }\n",
              "\n",
              "  [theme=dark] .colab-df-quickchart {\n",
              "      --bg-color: #3B4455;\n",
              "      --fill-color: #D2E3FC;\n",
              "      --hover-bg-color: #434B5C;\n",
              "      --hover-fill-color: #FFFFFF;\n",
              "      --disabled-bg-color: #3B4455;\n",
              "      --disabled-fill-color: #666;\n",
              "  }\n",
              "\n",
              "  .colab-df-quickchart {\n",
              "    background-color: var(--bg-color);\n",
              "    border: none;\n",
              "    border-radius: 50%;\n",
              "    cursor: pointer;\n",
              "    display: none;\n",
              "    fill: var(--fill-color);\n",
              "    height: 32px;\n",
              "    padding: 0;\n",
              "    width: 32px;\n",
              "  }\n",
              "\n",
              "  .colab-df-quickchart:hover {\n",
              "    background-color: var(--hover-bg-color);\n",
              "    box-shadow: 0 1px 2px rgba(60, 64, 67, 0.3), 0 1px 3px 1px rgba(60, 64, 67, 0.15);\n",
              "    fill: var(--button-hover-fill-color);\n",
              "  }\n",
              "\n",
              "  .colab-df-quickchart-complete:disabled,\n",
              "  .colab-df-quickchart-complete:disabled:hover {\n",
              "    background-color: var(--disabled-bg-color);\n",
              "    fill: var(--disabled-fill-color);\n",
              "    box-shadow: none;\n",
              "  }\n",
              "\n",
              "  .colab-df-spinner {\n",
              "    border: 2px solid var(--fill-color);\n",
              "    border-color: transparent;\n",
              "    border-bottom-color: var(--fill-color);\n",
              "    animation:\n",
              "      spin 1s steps(1) infinite;\n",
              "  }\n",
              "\n",
              "  @keyframes spin {\n",
              "    0% {\n",
              "      border-color: transparent;\n",
              "      border-bottom-color: var(--fill-color);\n",
              "      border-left-color: var(--fill-color);\n",
              "    }\n",
              "    20% {\n",
              "      border-color: transparent;\n",
              "      border-left-color: var(--fill-color);\n",
              "      border-top-color: var(--fill-color);\n",
              "    }\n",
              "    30% {\n",
              "      border-color: transparent;\n",
              "      border-left-color: var(--fill-color);\n",
              "      border-top-color: var(--fill-color);\n",
              "      border-right-color: var(--fill-color);\n",
              "    }\n",
              "    40% {\n",
              "      border-color: transparent;\n",
              "      border-right-color: var(--fill-color);\n",
              "      border-top-color: var(--fill-color);\n",
              "    }\n",
              "    60% {\n",
              "      border-color: transparent;\n",
              "      border-right-color: var(--fill-color);\n",
              "    }\n",
              "    80% {\n",
              "      border-color: transparent;\n",
              "      border-right-color: var(--fill-color);\n",
              "      border-bottom-color: var(--fill-color);\n",
              "    }\n",
              "    90% {\n",
              "      border-color: transparent;\n",
              "      border-bottom-color: var(--fill-color);\n",
              "    }\n",
              "  }\n",
              "</style>\n",
              "\n",
              "  <script>\n",
              "    async function quickchart(key) {\n",
              "      const quickchartButtonEl =\n",
              "        document.querySelector('#' + key + ' button');\n",
              "      quickchartButtonEl.disabled = true;  // To prevent multiple clicks.\n",
              "      quickchartButtonEl.classList.add('colab-df-spinner');\n",
              "      try {\n",
              "        const charts = await google.colab.kernel.invokeFunction(\n",
              "            'suggestCharts', [key], {});\n",
              "      } catch (error) {\n",
              "        console.error('Error during call to suggestCharts:', error);\n",
              "      }\n",
              "      quickchartButtonEl.classList.remove('colab-df-spinner');\n",
              "      quickchartButtonEl.classList.add('colab-df-quickchart-complete');\n",
              "    }\n",
              "    (() => {\n",
              "      let quickchartButtonEl =\n",
              "        document.querySelector('#df-3426e571-a523-4ba8-9818-3015580e16ce button');\n",
              "      quickchartButtonEl.style.display =\n",
              "        google.colab.kernel.accessAllowed ? 'block' : 'none';\n",
              "    })();\n",
              "  </script>\n",
              "</div>\n",
              "\n",
              "    </div>\n",
              "  </div>\n"
            ],
            "application/vnd.google.colaboratory.intrinsic+json": {
              "type": "dataframe",
              "variable_name": "df",
              "summary": "{\n  \"name\": \"df\",\n  \"rows\": 49025,\n  \"fields\": [\n    {\n      \"column\": \"commentaire\",\n      \"properties\": {\n        \"dtype\": \"string\",\n        \"num_unique_values\": 41856,\n        \"samples\": [\n          \" film plein tendresse qui parle des corses avec humour r\\u00e9alisme les acteurs sont excellents avec des visages vrais corses ch\\u00e9 corses \",\n          \" apr\\u00e8s une attente peu trop excessive voire fi\\u00e9vreuse aliment\\u00e9e par des critiques dithyrambiques suis peu perplexe par rapport ce wolfman r\\u00e9alisation est certes impeccable le recours non syst\\u00e9matique image synth\\u00e8se \\u00e9quipe ayant privil\\u00e9gi\\u00e9 maquillage les effets live est une tr\\u00e8s bonne chose mais les soubresauts rythmiques peut dire que ennuie guette souvent les jump scares artificiels qui apportent rien intrigue classicisme trop pesant sc\\u00e9nario font peu effondrer pi\\u00e9destal \",\n          \" film pauvre pas sous investis tout m\\u00eame millions euros mais sc\\u00e9nario les acteurs sont bons mais trop points noirs pullulent film changement ast\\u00e9rix bien que clovis cornillac en sort finalement bien humour quasi absent pour laisser place qq boutades sans importance trop long film pour peu ast\\u00e9rix \\u00e9cran trop stars tuent les stars on fait une overdose sur final pitoyable le film point positif benoit poelvoorde sauve film mais un bon acteur dans film mal exploit\\u00e9 thomas langmann a pas bien exploiter sujet vous sort film fade qui pour les adorateurs mission cl\\u00e9op\\u00e2tre est calvaire regarder ai tenu jusqu bout par principe mais comme tout monde d\\u00e9ception \\u00e9t\\u00e9 grande dommage esp\\u00e8re volet qui rel\\u00e8vera niveau \"\n        ],\n        \"semantic_type\": \"\",\n        \"description\": \"\"\n      }\n    },\n    {\n      \"column\": \"note\",\n      \"properties\": {\n        \"dtype\": \"number\",\n        \"std\": 1.6143178696742453,\n        \"min\": 0.5,\n        \"max\": 5.0,\n        \"num_unique_values\": 10,\n        \"samples\": [\n          3.5,\n          3.0,\n          2.5\n        ],\n        \"semantic_type\": \"\",\n        \"description\": \"\"\n      }\n    }\n  ]\n}"
            }
          },
          "metadata": {},
          "execution_count": 111
        }
      ],
      "source": [
        "df.head()"
      ]
    },
    {
      "cell_type": "code",
      "execution_count": 112,
      "metadata": {
        "colab": {
          "base_uri": "https://localhost:8080/"
        },
        "id": "m1MLnYTNjAGn",
        "outputId": "d54b49ae-dd95-4836-9772-01c23ccd5f6e"
      },
      "outputs": [
        {
          "output_type": "execute_result",
          "data": {
            "text/plain": [
              "49025"
            ]
          },
          "metadata": {},
          "execution_count": 112
        }
      ],
      "source": [
        "len(df)"
      ]
    },
    {
      "cell_type": "code",
      "execution_count": 113,
      "metadata": {
        "colab": {
          "base_uri": "https://localhost:8080/"
        },
        "id": "F--x-rwnnBzP",
        "outputId": "268a54ab-3f4d-471a-af62-b2a20b7868ed"
      },
      "outputs": [
        {
          "output_type": "stream",
          "name": "stdout",
          "text": [
            "Index(['commentaire', 'note'], dtype='object')\n"
          ]
        }
      ],
      "source": [
        "print(df.columns)"
      ]
    },
    {
      "cell_type": "code",
      "execution_count": 114,
      "metadata": {
        "colab": {
          "base_uri": "https://localhost:8080/",
          "height": 429
        },
        "id": "Lsup3FW0kA-h",
        "outputId": "61cc1968-1a49-4a3f-d3dc-2276f4c78ab8"
      },
      "outputs": [
        {
          "output_type": "execute_result",
          "data": {
            "text/plain": [
              "note\n",
              "5.0    17122\n",
              "4.0     6909\n",
              "0.5     5694\n",
              "4.5     4757\n",
              "2.5     3112\n",
              "1.0     3076\n",
              "3.0     2783\n",
              "3.5     2570\n",
              "2.0     2020\n",
              "1.5      982\n",
              "Name: count, dtype: int64"
            ],
            "text/html": [
              "<div>\n",
              "<style scoped>\n",
              "    .dataframe tbody tr th:only-of-type {\n",
              "        vertical-align: middle;\n",
              "    }\n",
              "\n",
              "    .dataframe tbody tr th {\n",
              "        vertical-align: top;\n",
              "    }\n",
              "\n",
              "    .dataframe thead th {\n",
              "        text-align: right;\n",
              "    }\n",
              "</style>\n",
              "<table border=\"1\" class=\"dataframe\">\n",
              "  <thead>\n",
              "    <tr style=\"text-align: right;\">\n",
              "      <th></th>\n",
              "      <th>count</th>\n",
              "    </tr>\n",
              "    <tr>\n",
              "      <th>note</th>\n",
              "      <th></th>\n",
              "    </tr>\n",
              "  </thead>\n",
              "  <tbody>\n",
              "    <tr>\n",
              "      <th>5.0</th>\n",
              "      <td>17122</td>\n",
              "    </tr>\n",
              "    <tr>\n",
              "      <th>4.0</th>\n",
              "      <td>6909</td>\n",
              "    </tr>\n",
              "    <tr>\n",
              "      <th>0.5</th>\n",
              "      <td>5694</td>\n",
              "    </tr>\n",
              "    <tr>\n",
              "      <th>4.5</th>\n",
              "      <td>4757</td>\n",
              "    </tr>\n",
              "    <tr>\n",
              "      <th>2.5</th>\n",
              "      <td>3112</td>\n",
              "    </tr>\n",
              "    <tr>\n",
              "      <th>1.0</th>\n",
              "      <td>3076</td>\n",
              "    </tr>\n",
              "    <tr>\n",
              "      <th>3.0</th>\n",
              "      <td>2783</td>\n",
              "    </tr>\n",
              "    <tr>\n",
              "      <th>3.5</th>\n",
              "      <td>2570</td>\n",
              "    </tr>\n",
              "    <tr>\n",
              "      <th>2.0</th>\n",
              "      <td>2020</td>\n",
              "    </tr>\n",
              "    <tr>\n",
              "      <th>1.5</th>\n",
              "      <td>982</td>\n",
              "    </tr>\n",
              "  </tbody>\n",
              "</table>\n",
              "</div><br><label><b>dtype:</b> int64</label>"
            ]
          },
          "metadata": {},
          "execution_count": 114
        }
      ],
      "source": [
        "df.note.value_counts()"
      ]
    },
    {
      "cell_type": "code",
      "execution_count": 115,
      "metadata": {
        "colab": {
          "base_uri": "https://localhost:8080/",
          "height": 495
        },
        "id": "tOzpMcVgjAIb",
        "outputId": "377c3ef8-19cb-4632-9be0-d173b283f8d9"
      },
      "outputs": [
        {
          "output_type": "display_data",
          "data": {
            "text/plain": [
              "<Figure size 1000x500 with 1 Axes>"
            ],
            "image/png": "[encoded data removed]"
          },
          "metadata": {}
        }
      ],
      "source": [
        "#Graphique montrant la répartition totale des notes\n",
        "\n",
        "ax = df['note'].value_counts().sort_index() \\\n",
        "    .plot(kind='bar',\n",
        "          title='Repartition des notes',\n",
        "          figsize=(10, 5))\n",
        "ax.set_xlabel(\"Note sur les films\")\n",
        "plt.show()"
      ]
    },
    {
      "cell_type": "code",
      "execution_count": 116,
      "metadata": {
        "id": "1Wwh6OkWj8e1"
      },
      "outputs": [],
      "source": [
        "df_sample=df.sample(500)"
      ]
    },
    {
      "cell_type": "code",
      "execution_count": 117,
      "metadata": {
        "colab": {
          "base_uri": "https://localhost:8080/",
          "height": 429
        },
        "id": "5nOM3C1Sj8si",
        "outputId": "bdbb9519-1cd9-4e6c-bf57-d81927b9edaf"
      },
      "outputs": [
        {
          "output_type": "execute_result",
          "data": {
            "text/plain": [
              "note\n",
              "5.0    178\n",
              "4.0     60\n",
              "4.5     60\n",
              "0.5     53\n",
              "2.5     38\n",
              "3.0     32\n",
              "3.5     24\n",
              "1.0     23\n",
              "2.0     19\n",
              "1.5     13\n",
              "Name: count, dtype: int64"
            ],
            "text/html": [
              "<div>\n",
              "<style scoped>\n",
              "    .dataframe tbody tr th:only-of-type {\n",
              "        vertical-align: middle;\n",
              "    }\n",
              "\n",
              "    .dataframe tbody tr th {\n",
              "        vertical-align: top;\n",
              "    }\n",
              "\n",
              "    .dataframe thead th {\n",
              "        text-align: right;\n",
              "    }\n",
              "</style>\n",
              "<table border=\"1\" class=\"dataframe\">\n",
              "  <thead>\n",
              "    <tr style=\"text-align: right;\">\n",
              "      <th></th>\n",
              "      <th>count</th>\n",
              "    </tr>\n",
              "    <tr>\n",
              "      <th>note</th>\n",
              "      <th></th>\n",
              "    </tr>\n",
              "  </thead>\n",
              "  <tbody>\n",
              "    <tr>\n",
              "      <th>5.0</th>\n",
              "      <td>178</td>\n",
              "    </tr>\n",
              "    <tr>\n",
              "      <th>4.0</th>\n",
              "      <td>60</td>\n",
              "    </tr>\n",
              "    <tr>\n",
              "      <th>4.5</th>\n",
              "      <td>60</td>\n",
              "    </tr>\n",
              "    <tr>\n",
              "      <th>0.5</th>\n",
              "      <td>53</td>\n",
              "    </tr>\n",
              "    <tr>\n",
              "      <th>2.5</th>\n",
              "      <td>38</td>\n",
              "    </tr>\n",
              "    <tr>\n",
              "      <th>3.0</th>\n",
              "      <td>32</td>\n",
              "    </tr>\n",
              "    <tr>\n",
              "      <th>3.5</th>\n",
              "      <td>24</td>\n",
              "    </tr>\n",
              "    <tr>\n",
              "      <th>1.0</th>\n",
              "      <td>23</td>\n",
              "    </tr>\n",
              "    <tr>\n",
              "      <th>2.0</th>\n",
              "      <td>19</td>\n",
              "    </tr>\n",
              "    <tr>\n",
              "      <th>1.5</th>\n",
              "      <td>13</td>\n",
              "    </tr>\n",
              "  </tbody>\n",
              "</table>\n",
              "</div><br><label><b>dtype:</b> int64</label>"
            ]
          },
          "metadata": {},
          "execution_count": 117
        }
      ],
      "source": [
        "#on verifie on veut que ce soit équilibré\n",
        "df_sample.note.value_counts()"
      ]
    },
    {
      "cell_type": "code",
      "execution_count": 118,
      "metadata": {
        "colab": {
          "base_uri": "https://localhost:8080/",
          "height": 496
        },
        "id": "gsdbZEv4kKeP",
        "outputId": "7373d9b1-c09c-49d3-f1d6-40470033a732"
      },
      "outputs": [
        {
          "output_type": "display_data",
          "data": {
            "text/plain": [
              "<Figure size 1000x500 with 1 Axes>"
            ],
            "image/png": "[encoded data removed]"
          },
          "metadata": {}
        }
      ],
      "source": [
        "#Graphique qui montre la repartition des notes de l'echantillon (sample)\n",
        "\n",
        "ax = df_sample['note'].value_counts().sort_index() \\\n",
        "    .plot(kind='bar',\n",
        "          title='Repartition des notes sur un plus petit échantillon',\n",
        "          figsize=(10, 5))\n",
        "ax.set_xlabel(\"Note sur les films\")\n",
        "plt.show()"
      ]
    },
    {
      "cell_type": "markdown",
      "metadata": {
        "id": "M7M_rXO-ktbH"
      },
      "source": [
        "### 1- Charger le modèle de Bert"
      ]
    },
    {
      "cell_type": "code",
      "execution_count": 119,
      "metadata": {
        "id": "UFyzpOmOkKhd"
      },
      "outputs": [],
      "source": [
        "model_class, tokenizer_c, weights_pretrained = (transf.DistilBertModel, transf.DistilBertTokenizer, 'distilbert-base-uncased')\n",
        "\n",
        "tokenizer = tokenizer_c.from_pretrained(weights_pretrained)\n",
        "model = model_class.from_pretrained(weights_pretrained)"
      ]
    },
    {
      "cell_type": "markdown",
      "metadata": {
        "id": "kx7p7ajPk6-P"
      },
      "source": [
        "### 2- Préparer le texte"
      ]
    },
    {
      "cell_type": "code",
      "execution_count": 120,
      "metadata": {
        "colab": {
          "base_uri": "https://localhost:8080/",
          "height": 36
        },
        "id": "A81JQRO3kKke",
        "outputId": "a8556cb1-7443-43b0-f5a5-085d08f331d1"
      },
      "outputs": [
        {
          "output_type": "execute_result",
          "data": {
            "text/plain": [
              "' film qui sort lot qui est très différents des autres malgré gros sentiment disney perso m plu '"
            ],
            "application/vnd.google.colaboratory.intrinsic+json": {
              "type": "string"
            }
          },
          "metadata": {},
          "execution_count": 120
        }
      ],
      "source": [
        "exemple = df_sample.commentaire.head(5).values[3]\n",
        "exemple"
      ]
    },
    {
      "cell_type": "code",
      "execution_count": 121,
      "metadata": {
        "colab": {
          "base_uri": "https://localhost:8080/"
        },
        "id": "l5diw5m4kKlu",
        "outputId": "65ef216c-0cf7-41c3-8c7b-ba18433c1e1b"
      },
      "outputs": [
        {
          "output_type": "stream",
          "name": "stdout",
          "text": [
            "[101, 2143, 21864, 4066, 2843, 21864, 9765, 24403, 2367, 2015, 4078, 8740, 19168, 15451, 17603, 24665, 2891, 15792, 6373, 2566, 6499, 1049, 20228, 2226, 102]\n"
          ]
        }
      ],
      "source": [
        "print(tokenizer.encode(exemple,add_special_tokens=True))"
      ]
    },
    {
      "cell_type": "code",
      "execution_count": 122,
      "metadata": {
        "colab": {
          "base_uri": "https://localhost:8080/"
        },
        "id": "fkiHBVtokKni",
        "outputId": "a65ec38f-6e9f-4267-bd2d-3f91093a16af"
      },
      "outputs": [
        {
          "output_type": "execute_result",
          "data": {
            "text/plain": [
              "['a', 'moving', ',', 'if', 'uneven', ',', 'success']"
            ]
          },
          "metadata": {},
          "execution_count": 122
        }
      ],
      "source": [
        "tokenizer.tokenize(\"a moving, if uneven, success\")"
      ]
    },
    {
      "cell_type": "code",
      "execution_count": 123,
      "metadata": {
        "id": "p7G-KnA-kKpv"
      },
      "outputs": [],
      "source": [
        "tokenized = df_sample['commentaire'].apply(lambda x: tokenizer.encode(x, add_special_tokens=True, max_length=128, truncation=True))"
      ]
    },
    {
      "cell_type": "code",
      "execution_count": 124,
      "metadata": {
        "colab": {
          "base_uri": "https://localhost:8080/",
          "height": 458
        },
        "id": "rN7-tyklkKtQ",
        "outputId": "b55824ba-fed0-42c8-b2fb-b057865a264f"
      },
      "outputs": [
        {
          "output_type": "execute_result",
          "data": {
            "text/plain": [
              "9811     [101, 2143, 9765, 23848, 3490, 8873, 4226, 976...\n",
              "28418    [101, 25933, 2015, 18201, 2015, 2139, 14454, 2...\n",
              "13642    [101, 4621, 3672, 25636, 2063, 10861, 2000, 49...\n",
              "3931     [101, 2143, 21864, 4066, 2843, 21864, 9765, 24...\n",
              "9444     [101, 11968, 22825, 2099, 1050, 1037, 15544, 2...\n",
              "                               ...                        \n",
              "29922    [101, 4848, 13642, 2278, 17935, 3597, 6279, 20...\n",
              "39800    [101, 11967, 6970, 7971, 4630, 2482, 6846, 261...\n",
              "16866    [101, 12753, 4649, 3937, 12753, 4649, 4223, 20...\n",
              "8175     [101, 2128, 21163, 25223, 7367, 19661, 26523, ...\n",
              "34817    [101, 9932, 2063, 16655, 7977, 2063, 18856, 20...\n",
              "Name: commentaire, Length: 500, dtype: object"
            ],
            "text/html": [
              "<div>\n",
              "<style scoped>\n",
              "    .dataframe tbody tr th:only-of-type {\n",
              "        vertical-align: middle;\n",
              "    }\n",
              "\n",
              "    .dataframe tbody tr th {\n",
              "        vertical-align: top;\n",
              "    }\n",
              "\n",
              "    .dataframe thead th {\n",
              "        text-align: right;\n",
              "    }\n",
              "</style>\n",
              "<table border=\"1\" class=\"dataframe\">\n",
              "  <thead>\n",
              "    <tr style=\"text-align: right;\">\n",
              "      <th></th>\n",
              "      <th>commentaire</th>\n",
              "    </tr>\n",
              "  </thead>\n",
              "  <tbody>\n",
              "    <tr>\n",
              "      <th>9811</th>\n",
              "      <td>[101, 2143, 9765, 23848, 3490, 8873, 4226, 976...</td>\n",
              "    </tr>\n",
              "    <tr>\n",
              "      <th>28418</th>\n",
              "      <td>[101, 25933, 2015, 18201, 2015, 2139, 14454, 2...</td>\n",
              "    </tr>\n",
              "    <tr>\n",
              "      <th>13642</th>\n",
              "      <td>[101, 4621, 3672, 25636, 2063, 10861, 2000, 49...</td>\n",
              "    </tr>\n",
              "    <tr>\n",
              "      <th>3931</th>\n",
              "      <td>[101, 2143, 21864, 4066, 2843, 21864, 9765, 24...</td>\n",
              "    </tr>\n",
              "    <tr>\n",
              "      <th>9444</th>\n",
              "      <td>[101, 11968, 22825, 2099, 1050, 1037, 15544, 2...</td>\n",
              "    </tr>\n",
              "    <tr>\n",
              "      <th>...</th>\n",
              "      <td>...</td>\n",
              "    </tr>\n",
              "    <tr>\n",
              "      <th>29922</th>\n",
              "      <td>[101, 4848, 13642, 2278, 17935, 3597, 6279, 20...</td>\n",
              "    </tr>\n",
              "    <tr>\n",
              "      <th>39800</th>\n",
              "      <td>[101, 11967, 6970, 7971, 4630, 2482, 6846, 261...</td>\n",
              "    </tr>\n",
              "    <tr>\n",
              "      <th>16866</th>\n",
              "      <td>[101, 12753, 4649, 3937, 12753, 4649, 4223, 20...</td>\n",
              "    </tr>\n",
              "    <tr>\n",
              "      <th>8175</th>\n",
              "      <td>[101, 2128, 21163, 25223, 7367, 19661, 26523, ...</td>\n",
              "    </tr>\n",
              "    <tr>\n",
              "      <th>34817</th>\n",
              "      <td>[101, 9932, 2063, 16655, 7977, 2063, 18856, 20...</td>\n",
              "    </tr>\n",
              "  </tbody>\n",
              "</table>\n",
              "<p>500 rows × 1 columns</p>\n",
              "</div><br><label><b>dtype:</b> object</label>"
            ]
          },
          "metadata": {},
          "execution_count": 124
        }
      ],
      "source": [
        "tokenized"
      ]
    },
    {
      "cell_type": "code",
      "execution_count": 125,
      "metadata": {
        "colab": {
          "base_uri": "https://localhost:8080/"
        },
        "id": "ssvXyAD7lZol",
        "outputId": "84936868-4dec-40bf-a298-b6a6cc04ee42"
      },
      "outputs": [
        {
          "output_type": "stream",
          "name": "stdout",
          "text": [
            "128\n"
          ]
        }
      ],
      "source": [
        "#pour voir la longueur max\n",
        "max_len=0\n",
        "for i in tokenized.values:\n",
        "  if len(i)>max_len:\n",
        "    max_len=len(i)\n",
        "\n",
        "print(max_len)"
      ]
    },
    {
      "cell_type": "code",
      "execution_count": 126,
      "metadata": {
        "colab": {
          "base_uri": "https://localhost:8080/"
        },
        "id": "yWy-qvlylZqt",
        "outputId": "3f489678-8832-465b-bd4a-33a8eb37ec64"
      },
      "outputs": [
        {
          "output_type": "execute_result",
          "data": {
            "text/plain": [
              "(500, 128)"
            ]
          },
          "metadata": {},
          "execution_count": 126
        }
      ],
      "source": [
        "tokenized_zeroes = np.array([i + [0]*(max_len-len(i)) for i in tokenized.values])\n",
        "np.array(tokenized_zeroes).shape"
      ]
    },
    {
      "cell_type": "code",
      "execution_count": 127,
      "metadata": {
        "colab": {
          "base_uri": "https://localhost:8080/"
        },
        "id": "swg8eieupa7u",
        "outputId": "a0b922cf-1d31-43a8-af7b-89ba32cba3d0"
      },
      "outputs": [
        {
          "output_type": "execute_result",
          "data": {
            "text/plain": [
              "(500, 128)"
            ]
          },
          "metadata": {},
          "execution_count": 127
        }
      ],
      "source": [
        "attention_mask = np.where(tokenized_zeroes != 0, 1, 0)\n",
        "attention_mask.shape"
      ]
    },
    {
      "cell_type": "code",
      "execution_count": 128,
      "metadata": {
        "id": "mTiOBRYVpSH6"
      },
      "outputs": [],
      "source": [
        "inputs_ids=torch.tensor(tokenized_zeroes)\n",
        "attention_mask=torch.tensor(attention_mask)"
      ]
    },
    {
      "cell_type": "code",
      "execution_count": 129,
      "metadata": {
        "colab": {
          "base_uri": "https://localhost:8080/"
        },
        "id": "5ElKgaUgpSKL",
        "outputId": "e32a35b6-b38e-4730-bd99-c0dcdc25c6cf"
      },
      "outputs": [
        {
          "output_type": "execute_result",
          "data": {
            "text/plain": [
              "tensor([[  101,  2143,  9765,  ...,     0,     0,     0],\n",
              "        [  101, 25933,  2015,  ...,     0,     0,     0],\n",
              "        [  101,  4621,  3672,  ...,     0,     0,     0],\n",
              "        ...,\n",
              "        [  101, 12753,  4649,  ...,     0,     0,     0],\n",
              "        [  101,  2128, 21163,  ...,     0,     0,     0],\n",
              "        [  101,  9932,  2063,  ...,  3446,  2099,   102]])"
            ]
          },
          "metadata": {},
          "execution_count": 129
        }
      ],
      "source": [
        "inputs_ids"
      ]
    },
    {
      "cell_type": "code",
      "execution_count": 130,
      "metadata": {
        "id": "ZGGAOv81pSMr"
      },
      "outputs": [],
      "source": [
        "with torch.no_grad():\n",
        "  last_hidden_states = model(inputs_ids, attention_mask=attention_mask) #on recupere tout"
      ]
    },
    {
      "cell_type": "code",
      "execution_count": 131,
      "metadata": {
        "colab": {
          "base_uri": "https://localhost:8080/"
        },
        "id": "2pEjKehLpSQP",
        "outputId": "ef1b067b-f54c-4c7a-9327-97160cdaf5a5"
      },
      "outputs": [
        {
          "output_type": "execute_result",
          "data": {
            "text/plain": [
              "torch.Size([500, 768])"
            ]
          },
          "metadata": {},
          "execution_count": 131
        }
      ],
      "source": [
        "features = last_hidden_states[0][:,0,:] #on filtre le dernier\n",
        "features.shape"
      ]
    },
    {
      "cell_type": "code",
      "execution_count": 132,
      "metadata": {
        "colab": {
          "base_uri": "https://localhost:8080/"
        },
        "id": "NUDP90szpwhO",
        "outputId": "1489f487-9027-46af-ce09-78241ab7765b"
      },
      "outputs": [
        {
          "output_type": "stream",
          "name": "stdout",
          "text": [
            "9811     5.0\n",
            "28418    0.5\n",
            "13642    4.0\n",
            "3931     4.0\n",
            "9444     5.0\n",
            "        ... \n",
            "29922    3.0\n",
            "39800    2.5\n",
            "16866    1.5\n",
            "8175     4.5\n",
            "34817    5.0\n",
            "Name: note, Length: 500, dtype: float64\n"
          ]
        }
      ],
      "source": [
        "labels = df_sample[\"note\"]\n",
        "if features.shape[0] != labels.shape[0]:\n",
        "    features = features.repeat(labels.shape[0], 1)\n",
        "print(labels)"
      ]
    },
    {
      "cell_type": "markdown",
      "metadata": {
        "id": "CkqN1luzp5tu"
      },
      "source": [
        "### 3- Model : Train/Test"
      ]
    },
    {
      "cell_type": "code",
      "execution_count": 133,
      "metadata": {
        "id": "jULAP0Ippwjd"
      },
      "outputs": [],
      "source": [
        "train_features, test_features, train_labels, test_labels = train_test_split(features, labels)"
      ]
    },
    {
      "cell_type": "code",
      "execution_count": 134,
      "metadata": {
        "colab": {
          "base_uri": "https://localhost:8080/"
        },
        "id": "IA4HqzOKvD3V",
        "outputId": "2284b580-aa77-40fb-cf21-5e4193176741"
      },
      "outputs": [
        {
          "output_type": "stream",
          "name": "stdout",
          "text": [
            "17645    1.0\n",
            "22092    5.0\n",
            "7555     3.0\n",
            "7473     5.0\n",
            "39527    5.0\n",
            "21069    5.0\n",
            "44591    4.0\n",
            "1742     2.0\n",
            "25241    4.0\n",
            "35316    5.0\n",
            "Name: note, dtype: float64\n",
            "float64\n"
          ]
        }
      ],
      "source": [
        "print(train_labels[:10])\n",
        "print(train_labels.dtype)"
      ]
    },
    {
      "cell_type": "code",
      "execution_count": 135,
      "metadata": {
        "id": "Om4ED8xivHeu"
      },
      "outputs": [],
      "source": [
        "#on doit les transformer en int :\n",
        "train_labels = train_labels.astype(int)\n",
        "test_labels = test_labels.astype(int)"
      ]
    },
    {
      "cell_type": "markdown",
      "metadata": {
        "id": "G3nTCZ6UHhSe"
      },
      "source": [
        "on teste un premier modèle avec RandomForest"
      ]
    },
    {
      "cell_type": "code",
      "execution_count": 159,
      "metadata": {
        "colab": {
          "base_uri": "https://localhost:8080/"
        },
        "id": "Np3NUmQrDvWm",
        "outputId": "8eb5abb4-6142-402f-952e-06ce3db8dbda"
      },
      "outputs": [
        {
          "output_type": "stream",
          "name": "stdout",
          "text": [
            "Fitting 3 folds for each of 288 candidates, totalling 864 fits\n",
            "Meilleurs hyperparamètres : {'bootstrap': False, 'max_depth': 20, 'min_samples_leaf': 1, 'min_samples_split': 5, 'n_estimators': 50}\n",
            "Score sur les données de test : 0.328\n"
          ]
        }
      ],
      "source": [
        "from sklearn.ensemble import RandomForestClassifier\n",
        "from sklearn.model_selection import GridSearchCV\n",
        "\n",
        "param_grid = {'n_estimators': [50, 100, 200, 300],'max_depth': [5, 10, 20, None],'min_samples_split': [2, 5, 10],'min_samples_leaf': [1, 2, 4],'bootstrap': [True, False]\n",
        "}\n",
        "\n",
        "rf_clf = RandomForestClassifier(random_state=42)\n",
        "\n",
        "grid_search_rf = GridSearchCV(estimator=rf_clf, param_grid=param_grid,\n",
        "                           cv=3, n_jobs=-1, verbose=2, scoring='f1_macro')\n",
        "\n",
        "grid_search_rf.fit(train_features, train_labels)\n",
        "\n",
        "# Meilleurs hyperparamètres\n",
        "print(\"Meilleurs hyperparamètres :\", grid_search_rf.best_params_)\n",
        "\n",
        "rf_clf = grid_search_rf.best_estimator_\n",
        "\n",
        "rf_clf.fit(train_features, train_labels)\n",
        "\n",
        "test_score = rf_clf.score(test_features, test_labels)\n",
        "print(\"Score sur les données de test :\", test_score)\n"
      ]
    },
    {
      "cell_type": "code",
      "execution_count": 160,
      "metadata": {
        "id": "FtNxJxM0uIGv"
      },
      "outputs": [],
      "source": [
        "#Prediction\n",
        "text = tokenizer.encode(\"it's a good product, but i don't like it\", add_special_tokens=True)\n",
        "tokenized_zeroes = np.array([text + [0]*(max_len-len(text))])\n",
        "inputs_ids = torch.tensor(tokenized_zeroes)\n",
        "attention_mask = torch.tensor(np.where(tokenized_zeroes != 0, 1, 0))\n",
        "\n",
        "with torch.no_grad():\n",
        "  pred_hidden_states = model(inputs_ids, attention_mask=attention_mask)\n",
        "features = pred_hidden_states[0][:,0,:]"
      ]
    },
    {
      "cell_type": "code",
      "execution_count": 161,
      "metadata": {
        "colab": {
          "base_uri": "https://localhost:8080/"
        },
        "id": "wJ4NZlWbuIJ_",
        "outputId": "7139bcec-47b1-47dc-dc03-f3b4887a2597"
      },
      "outputs": [
        {
          "output_type": "execute_result",
          "data": {
            "text/plain": [
              "array([5])"
            ]
          },
          "metadata": {},
          "execution_count": 161
        }
      ],
      "source": [
        "rf_clf.predict(features)"
      ]
    },
    {
      "cell_type": "code",
      "execution_count": 162,
      "metadata": {
        "colab": {
          "base_uri": "https://localhost:8080/"
        },
        "id": "Vic9eR6FuQSJ",
        "outputId": "d307f47c-358c-4aa7-f969-36a0f23de965"
      },
      "outputs": [
        {
          "output_type": "execute_result",
          "data": {
            "text/plain": [
              "array([[0.1       , 0.075     , 0.06166667, 0.195     , 0.23666667,\n",
              "        0.33166667]])"
            ]
          },
          "metadata": {},
          "execution_count": 162
        }
      ],
      "source": [
        "rf_clf.predict_proba(features)"
      ]
    },
    {
      "cell_type": "markdown",
      "metadata": {
        "id": "nkOAY1KYIixd"
      },
      "source": [
        "On teste un deuxième modele\n"
      ]
    },
    {
      "cell_type": "code",
      "execution_count": 151,
      "metadata": {
        "colab": {
          "base_uri": "https://localhost:8080/"
        },
        "id": "GQ1JhSCOIlN5",
        "outputId": "c7c496dd-a202-4ce7-bcf4-f912451e9ec1"
      },
      "outputs": [
        {
          "output_type": "stream",
          "name": "stdout",
          "text": [
            "Fitting 3 folds for each of 16 candidates, totalling 48 fits\n",
            "Meilleurs hyperparamètres (KNN) : {'metric': 'euclidean', 'n_neighbors': 10, 'weights': 'uniform'}\n",
            "Score sur les données de test : 0.288\n"
          ]
        }
      ],
      "source": [
        "from sklearn.neighbors import KNeighborsClassifier\n",
        "\n",
        "param_grid_knn = {\n",
        "    'n_neighbors': [3, 5, 7, 10],  # Nombre de voisins\n",
        "    'weights': ['uniform', 'distance'],  # Pondération des voisins\n",
        "    'metric': ['euclidean', 'manhattan']  # Distance utilisée\n",
        "}\n",
        "\n",
        "# Création du modèle\n",
        "knn_clf = KNeighborsClassifier()\n",
        "grid_search_knn = GridSearchCV(estimator=knn_clf, param_grid=param_grid_knn,\n",
        "                               cv=3, n_jobs=-1, verbose=2, scoring='f1_macro')\n",
        "\n",
        "grid_search_knn.fit(train_features, train_labels)\n",
        "\n",
        "\n",
        "print(\"Meilleurs hyperparamètres (KNN) :\", grid_search_knn.best_params_)\n",
        "\n",
        "knn_clf = grid_search_knn.best_estimator_\n",
        "\n",
        "knn_clf.fit(train_features, train_labels)\n",
        "\n",
        "\n",
        "test_score_knn = knn_clf.score(test_features, test_labels)\n",
        "print(\"Score sur les données de test :\", test_score_knn)\n"
      ]
    },
    {
      "cell_type": "code",
      "source": [
        "text = tokenizer.encode(\"it's a good product, but i don't like it\", add_special_tokens=True)\n",
        "tokenized_zeroes = np.array([text + [0]*(max_len-len(text))])\n",
        "inputs_ids = torch.tensor(tokenized_zeroes)\n",
        "attention_mask = torch.tensor(np.where(tokenized_zeroes != 0, 1, 0))\n",
        "\n",
        "with torch.no_grad():\n",
        "  pred_hidden_states = model(inputs_ids, attention_mask=attention_mask)\n",
        "features = pred_hidden_states[0][:,0,:]"
      ],
      "metadata": {
        "id": "MvSxZmvFpuDS"
      },
      "execution_count": 152,
      "outputs": []
    },
    {
      "cell_type": "code",
      "execution_count": 153,
      "metadata": {
        "colab": {
          "base_uri": "https://localhost:8080/"
        },
        "id": "wS8j7iLSMkA2",
        "outputId": "a6a58b72-dea1-4626-f335-d29e1a52f473"
      },
      "outputs": [
        {
          "output_type": "execute_result",
          "data": {
            "text/plain": [
              "array([5])"
            ]
          },
          "metadata": {},
          "execution_count": 153
        }
      ],
      "source": [
        "knn_clf.predict(features)"
      ]
    },
    {
      "cell_type": "code",
      "execution_count": 154,
      "metadata": {
        "colab": {
          "base_uri": "https://localhost:8080/"
        },
        "id": "1SLm-Q5bxP1j",
        "outputId": "d038c419-3a12-413b-e64f-682d136c066b"
      },
      "outputs": [
        {
          "output_type": "execute_result",
          "data": {
            "text/plain": [
              "array([[0.1, 0.2, 0. , 0.1, 0.1, 0.5]])"
            ]
          },
          "metadata": {},
          "execution_count": 154
        }
      ],
      "source": [
        "knn_clf.predict_proba(features)"
      ]
    },
    {
      "cell_type": "markdown",
      "metadata": {
        "id": "Y-V4w2JuI-Oi"
      },
      "source": [
        "On teste un troisieme model"
      ]
    },
    {
      "cell_type": "code",
      "execution_count": 155,
      "metadata": {
        "colab": {
          "base_uri": "https://localhost:8080/"
        },
        "id": "BL7mWX2hI_2w",
        "outputId": "4538da56-fab0-4ece-dbe8-e501e9b227b7"
      },
      "outputs": [
        {
          "output_type": "stream",
          "name": "stdout",
          "text": [
            "Fitting 3 folds for each of 12 candidates, totalling 36 fits\n",
            "Meilleurs hyperparamètres (SVM) : {'C': 1, 'gamma': 'scale', 'kernel': 'linear'}\n",
            "Score sur les données de test : 0.328\n"
          ]
        }
      ],
      "source": [
        "from sklearn.svm import SVC\n",
        "\n",
        "param_grid_svm = {\n",
        "    'C': [0.1, 1, 10],\n",
        "    'kernel': ['linear', 'rbf'],\n",
        "    'gamma': ['scale', 'auto']\n",
        "}\n",
        "\n",
        "# Création du modèle\n",
        "svm_clf = SVC(random_state=42)\n",
        "grid_search_svm = GridSearchCV(estimator=svm_clf, param_grid=param_grid_svm,\n",
        "                               cv=3, n_jobs=-1, verbose=2, scoring='f1_macro')\n",
        "\n",
        "grid_search_svm.fit(train_features, train_labels)\n",
        "\n",
        "print(\"Meilleurs hyperparamètres (SVM) :\", grid_search_svm.best_params_)\n",
        "\n",
        "svm_clf = grid_search_svm.best_estimator_\n",
        "\n",
        "svm_clf.fit(train_features, train_labels)\n",
        "\n",
        "test_score_svm = svm_clf.score(test_features, test_labels)\n",
        "print(\"Score sur les données de test :\", test_score_svm)\n"
      ]
    },
    {
      "cell_type": "code",
      "source": [
        "text = tokenizer.encode(\"it's a good product, but i don't like it\", add_special_tokens=True)\n",
        "tokenized_zeroes = np.array([text + [0]*(max_len-len(text))])\n",
        "inputs_ids = torch.tensor(tokenized_zeroes)\n",
        "attention_mask = torch.tensor(np.where(tokenized_zeroes != 0, 1, 0))\n",
        "\n",
        "with torch.no_grad():\n",
        "  pred_hidden_states = model(inputs_ids, attention_mask=attention_mask)\n",
        "features = pred_hidden_states[0][:,0,:]"
      ],
      "metadata": {
        "id": "sbPGDk4Gpy0R"
      },
      "execution_count": 156,
      "outputs": []
    },
    {
      "cell_type": "code",
      "execution_count": 157,
      "metadata": {
        "colab": {
          "base_uri": "https://localhost:8080/"
        },
        "id": "XDBD665NMpB_",
        "outputId": "26f3eb5b-7030-4761-d8db-1a356638ef57"
      },
      "outputs": [
        {
          "output_type": "execute_result",
          "data": {
            "text/plain": [
              "array([5])"
            ]
          },
          "metadata": {},
          "execution_count": 157
        }
      ],
      "source": [
        "svm_clf.predict(features)"
      ]
    },
    {
      "cell_type": "code",
      "execution_count": 158,
      "metadata": {
        "colab": {
          "base_uri": "https://localhost:8080/",
          "height": 424
        },
        "id": "pooodE9CMpHx",
        "outputId": "483858a6-c31a-41b5-e34f-d36151db1024"
      },
      "outputs": [
        {
          "output_type": "error",
          "ename": "AttributeError",
          "evalue": "This 'SVC' has no attribute 'predict_proba'",
          "traceback": [
            "\u001b[0;31m---------------------------------------------------------------------------\u001b[0m",
            "\u001b[0;31mAttributeError\u001b[0m                            Traceback (most recent call last)",
            "\u001b[0;32m/usr/local/lib/python3.10/dist-packages/sklearn/utils/_available_if.py\u001b[0m in \u001b[0;36m_check\u001b[0;34m(self, obj, owner)\u001b[0m\n\u001b[1;32m     28\u001b[0m         \u001b[0;32mtry\u001b[0m\u001b[0;34m:\u001b[0m\u001b[0;34m\u001b[0m\u001b[0;34m\u001b[0m\u001b[0m\n\u001b[0;32m---> 29\u001b[0;31m             \u001b[0mcheck_result\u001b[0m \u001b[0;34m=\u001b[0m \u001b[0mself\u001b[0m\u001b[0;34m.\u001b[0m\u001b[0mcheck\u001b[0m\u001b[0;34m(\u001b[0m\u001b[0mobj\u001b[0m\u001b[0;34m)\u001b[0m\u001b[0;34m\u001b[0m\u001b[0;34m\u001b[0m\u001b[0m\n\u001b[0m\u001b[1;32m     30\u001b[0m         \u001b[0;32mexcept\u001b[0m \u001b[0mException\u001b[0m \u001b[0;32mas\u001b[0m \u001b[0me\u001b[0m\u001b[0;34m:\u001b[0m\u001b[0;34m\u001b[0m\u001b[0;34m\u001b[0m\u001b[0m\n",
            "\u001b[0;32m/usr/local/lib/python3.10/dist-packages/sklearn/svm/_base.py\u001b[0m in \u001b[0;36m_check_proba\u001b[0;34m(self)\u001b[0m\n\u001b[1;32m    821\u001b[0m         \u001b[0;32mif\u001b[0m \u001b[0;32mnot\u001b[0m \u001b[0mself\u001b[0m\u001b[0;34m.\u001b[0m\u001b[0mprobability\u001b[0m\u001b[0;34m:\u001b[0m\u001b[0;34m\u001b[0m\u001b[0;34m\u001b[0m\u001b[0m\n\u001b[0;32m--> 822\u001b[0;31m             raise AttributeError(\n\u001b[0m\u001b[1;32m    823\u001b[0m                 \u001b[0;34m\"predict_proba is not available when probability=False\"\u001b[0m\u001b[0;34m\u001b[0m\u001b[0;34m\u001b[0m\u001b[0m\n",
            "\u001b[0;31mAttributeError\u001b[0m: predict_proba is not available when probability=False",
            "\nThe above exception was the direct cause of the following exception:\n",
            "\u001b[0;31mAttributeError\u001b[0m                            Traceback (most recent call last)",
            "\u001b[0;32m<ipython-input-158-051f61c85df5>\u001b[0m in \u001b[0;36m<cell line: 1>\u001b[0;34m()\u001b[0m\n\u001b[0;32m----> 1\u001b[0;31m \u001b[0msvm_clf\u001b[0m\u001b[0;34m.\u001b[0m\u001b[0mpredict_proba\u001b[0m\u001b[0;34m(\u001b[0m\u001b[0mfeatures\u001b[0m\u001b[0;34m)\u001b[0m\u001b[0;34m\u001b[0m\u001b[0;34m\u001b[0m\u001b[0m\n\u001b[0m",
            "\u001b[0;32m/usr/local/lib/python3.10/dist-packages/sklearn/utils/_available_if.py\u001b[0m in \u001b[0;36m__get__\u001b[0;34m(self, obj, owner)\u001b[0m\n\u001b[1;32m     38\u001b[0m             \u001b[0;31m# delegate only on instances, not the classes.\u001b[0m\u001b[0;34m\u001b[0m\u001b[0;34m\u001b[0m\u001b[0m\n\u001b[1;32m     39\u001b[0m             \u001b[0;31m# this is to allow access to the docstrings.\u001b[0m\u001b[0;34m\u001b[0m\u001b[0;34m\u001b[0m\u001b[0m\n\u001b[0;32m---> 40\u001b[0;31m             \u001b[0mself\u001b[0m\u001b[0;34m.\u001b[0m\u001b[0m_check\u001b[0m\u001b[0;34m(\u001b[0m\u001b[0mobj\u001b[0m\u001b[0;34m,\u001b[0m \u001b[0mowner\u001b[0m\u001b[0;34m=\u001b[0m\u001b[0mowner\u001b[0m\u001b[0;34m)\u001b[0m\u001b[0;34m\u001b[0m\u001b[0;34m\u001b[0m\u001b[0m\n\u001b[0m\u001b[1;32m     41\u001b[0m             \u001b[0mout\u001b[0m \u001b[0;34m=\u001b[0m \u001b[0mMethodType\u001b[0m\u001b[0;34m(\u001b[0m\u001b[0mself\u001b[0m\u001b[0;34m.\u001b[0m\u001b[0mfn\u001b[0m\u001b[0;34m,\u001b[0m \u001b[0mobj\u001b[0m\u001b[0;34m)\u001b[0m\u001b[0;34m\u001b[0m\u001b[0;34m\u001b[0m\u001b[0m\n\u001b[1;32m     42\u001b[0m \u001b[0;34m\u001b[0m\u001b[0m\n",
            "\u001b[0;32m/usr/local/lib/python3.10/dist-packages/sklearn/utils/_available_if.py\u001b[0m in \u001b[0;36m_check\u001b[0;34m(self, obj, owner)\u001b[0m\n\u001b[1;32m     29\u001b[0m             \u001b[0mcheck_result\u001b[0m \u001b[0;34m=\u001b[0m \u001b[0mself\u001b[0m\u001b[0;34m.\u001b[0m\u001b[0mcheck\u001b[0m\u001b[0;34m(\u001b[0m\u001b[0mobj\u001b[0m\u001b[0;34m)\u001b[0m\u001b[0;34m\u001b[0m\u001b[0;34m\u001b[0m\u001b[0m\n\u001b[1;32m     30\u001b[0m         \u001b[0;32mexcept\u001b[0m \u001b[0mException\u001b[0m \u001b[0;32mas\u001b[0m \u001b[0me\u001b[0m\u001b[0;34m:\u001b[0m\u001b[0;34m\u001b[0m\u001b[0;34m\u001b[0m\u001b[0m\n\u001b[0;32m---> 31\u001b[0;31m             \u001b[0;32mraise\u001b[0m \u001b[0mAttributeError\u001b[0m\u001b[0;34m(\u001b[0m\u001b[0mattr_err_msg\u001b[0m\u001b[0;34m)\u001b[0m \u001b[0;32mfrom\u001b[0m \u001b[0me\u001b[0m\u001b[0;34m\u001b[0m\u001b[0;34m\u001b[0m\u001b[0m\n\u001b[0m\u001b[1;32m     32\u001b[0m \u001b[0;34m\u001b[0m\u001b[0m\n\u001b[1;32m     33\u001b[0m         \u001b[0;32mif\u001b[0m \u001b[0;32mnot\u001b[0m \u001b[0mcheck_result\u001b[0m\u001b[0;34m:\u001b[0m\u001b[0;34m\u001b[0m\u001b[0;34m\u001b[0m\u001b[0m\n",
            "\u001b[0;31mAttributeError\u001b[0m: This 'SVC' has no attribute 'predict_proba'"
          ]
        }
      ],
      "source": [
        "svm_clf.predict_proba(features)"
      ]
    },
    {
      "cell_type": "markdown",
      "source": [
        "Pour conclure,\n",
        "\n",
        "Le meilleur modèle est le RandomForestClassifer avec un score de 0.38. Neanmoins, on s'est rendu que ce résultat était faible probablement à cause de la taille de notre échantillon, même s'il est équilibré. De plus, comme notre base de données est multiclasse, cela a pu aussi fausser les résultats.\n",
        "\n",
        "En conclusion, la méthode Bert donne des résultats plus performants que la méthode par Batch (qui nous donnait des résultats très faible)."
      ],
      "metadata": {
        "id": "H7CPz8WjntHI"
      }
    },
    {
      "cell_type": "markdown",
      "metadata": {
        "id": "qOJ1wcSdSofY"
      },
      "source": []
    }
  ],
  "metadata": {
    "colab": {
      "provenance": []
    },
    "kernelspec": {
      "display_name": "Python 3",
      "name": "python3"
    },
    "language_info": {
      "name": "python"
    }
  },
  "nbformat": 4,
  "nbformat_minor": 0
}